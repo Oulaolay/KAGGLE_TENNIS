{
 "cells": [
  {
   "cell_type": "markdown",
   "metadata": {},
   "source": [
    "#  TEST MODELS with RANDOM FOREST, GRADIENT BOOSTING : "
   ]
  },
  {
   "cell_type": "markdown",
   "metadata": {},
   "source": [
    "Tout d'abord, on charge charge les 5 différents fichiers : \n",
    "On retrouve les deux fichier d’entraînement (X_train, Y_train),\n",
    "les deux fichiers de la base cachée (X_test,Y_test) ainsi que le fichier (X_test_leaderboard) qui est notre base de  test que je soumet.     \n",
    "   \n",
    "Pour cette partie, j'ai implémenté deux différents algorithmes de machine Learning :        \n",
    "- Le premier est un RANDOM FOREST. On tune les paramètres avec une double GridSearch. (depth,estimators)      \n",
    "- Le deuxième est un GRADIENT BOOSTING. On tune les trois paramètres avec une double GridSearch (learning rate, depth, estimators)      \n",
    "On utilise une fonction Result_Grids afin de visualiser l'intersection des meilleurs paramètres.\n",
    "     \n",
    "De plus, à l'aide de \"Scikit-Learn\", j'utilise la fonction RFECV qui permet d'effectuer une élimination récursive des différents features, m'aidant à choisir les différentes features à éliminer. "
   ]
  },
  {
   "cell_type": "code",
   "execution_count": 21,
   "metadata": {
    "collapsed": false
   },
   "outputs": [],
   "source": [
    "import numpy as np\n",
    "import pandas as pd\n",
    "from sklearn import svm\n",
    "from sklearn.cross_validation import train_test_split\n",
    "from sklearn.grid_search import GridSearchCV\n",
    "import matplotlib.pyplot as plt\n",
    "import pickle\n",
    "import os\n",
    "from collections import defaultdict\n",
    "from sklearn.ensemble import RandomForestClassifier\n",
    "from sklearn.model_selection import cross_val_score\n",
    "from sklearn.ensemble import GradientBoostingClassifier\n",
    "from sklearn.ensemble import (RandomForestClassifier, ExtraTreesClassifier,\n",
    "                              AdaBoostClassifier)\n",
    "from sklearn.tree import DecisionTreeClassifier\n",
    "from sklearn.linear_model import LogisticRegression"
   ]
  },
  {
   "cell_type": "code",
   "execution_count": 22,
   "metadata": {
    "collapsed": false,
    "scrolled": true
   },
   "outputs": [
    {
     "name": "stdout",
     "output_type": "stream",
     "text": [
      "/home/poulain/Documents/Cours DAC/FDMS/Kaggle/train_test_csv3/X_train_3_pos_win_17f_sem_hidden.csv\n",
      "/home/poulain/Documents/Cours DAC/FDMS/Kaggle/train_test_csv3/X_test_4_pos_win_19f.csv\n",
      "/home/poulain/Documents/Cours DAC/FDMS/Kaggle/train_test_csv3/X_train_final_26f_sem2_hidden.csv\n",
      "/home/poulain/Documents/Cours DAC/FDMS/Kaggle/train_test_csv3/X_test_with_all_ultime_drop_2_hidden.csv\n",
      "/home/poulain/Documents/Cours DAC/FDMS/Kaggle/train_test_csv3/X_train_2_pos_win_14f_sem.csv\n",
      "/home/poulain/Documents/Cours DAC/FDMS/Kaggle/train_test_csv3/Y_test_5_age_21f_sem_hidden.csv\n",
      "/home/poulain/Documents/Cours DAC/FDMS/Kaggle/train_test_csv3/X_train_6_face_23f.csv\n",
      "/home/poulain/Documents/Cours DAC/FDMS/Kaggle/train_test_csv3/X_test_2_pos_win_14f_sem_hidden.csv\n",
      "/home/poulain/Documents/Cours DAC/FDMS/Kaggle/train_test_csv3/X_test_with_all_ultime_drop_2_final.csv\n",
      "/home/poulain/Documents/Cours DAC/FDMS/Kaggle/train_test_csv3/Y_train_3_pos_win_17f.csv\n",
      "/home/poulain/Documents/Cours DAC/FDMS/Kaggle/train_test_csv3/Y_test_final_26f_sem2_hidden_by1.csv\n",
      "/home/poulain/Documents/Cours DAC/FDMS/Kaggle/train_test_csv3/X_train_with_all_ultime_drop_2.csv\n",
      "/home/poulain/Documents/Cours DAC/FDMS/Kaggle/train_test_csv3/Y_train_4_pos_win_19f.csv\n",
      "/home/poulain/Documents/Cours DAC/FDMS/Kaggle/train_test_csv3/final_features.csv\n",
      "/home/poulain/Documents/Cours DAC/FDMS/Kaggle/train_test_csv3/Y_train_with_all_ultime_drop.csv\n",
      "/home/poulain/Documents/Cours DAC/FDMS/Kaggle/train_test_csv3/X_train_final_26f_sem2_hidden_by1.csv\n",
      "/home/poulain/Documents/Cours DAC/FDMS/Kaggle/train_test_csv3/X_train_final_26f_sem.csv\n",
      "/home/poulain/Documents/Cours DAC/FDMS/Kaggle/train_test_csv3/Y_train_6_face_23f.csv\n",
      "/home/poulain/Documents/Cours DAC/FDMS/Kaggle/train_test_csv3/X_test_final_26f_sem.csv\n",
      "/home/poulain/Documents/Cours DAC/FDMS/Kaggle/train_test_csv3/Y_train_1_pos_12f_sem_hidden.csv\n",
      "/home/poulain/Documents/Cours DAC/FDMS/Kaggle/train_test_csv3/X_train_4_pos_win_19f.csv\n",
      "/home/poulain/Documents/Cours DAC/FDMS/Kaggle/train_test_csv3/X_train_with_all_ultime_drop_2_age_hidden.csv\n",
      "/home/poulain/Documents/Cours DAC/FDMS/Kaggle/train_test_csv3/X_test_2_pos_win_14f_sem.csv\n",
      "/home/poulain/Documents/Cours DAC/FDMS/Kaggle/train_test_csv3/Y_train_5_age_21f.csv\n",
      "/home/poulain/Documents/Cours DAC/FDMS/Kaggle/train_test_csv3/Y_test_final_26f_sem2_hidden.csv\n",
      "/home/poulain/Documents/Cours DAC/FDMS/Kaggle/train_test_csv3/Y_train_2_pos_win_14f.csv\n",
      "/home/poulain/Documents/Cours DAC/FDMS/Kaggle/train_test_csv3/X_train_3_pos_win_17f_sem.csv\n",
      "/home/poulain/Documents/Cours DAC/FDMS/Kaggle/train_test_csv3/X_test_5_age_21f_sem.csv\n",
      "/home/poulain/Documents/Cours DAC/FDMS/Kaggle/train_test_csv3/Y_train_4_pos_win_19f_sem.csv\n",
      "/home/poulain/Documents/Cours DAC/FDMS/Kaggle/train_test_csv3/X_train_2_pos_win_14f.csv\n",
      "/home/poulain/Documents/Cours DAC/FDMS/Kaggle/train_test_csv3/X_train_with_all_ultime_drop_2_hidden.csv\n",
      "/home/poulain/Documents/Cours DAC/FDMS/Kaggle/train_test_csv3/Y_train_4_pos_win_19f_sem_hidden.csv\n",
      "/home/poulain/Documents/Cours DAC/FDMS/Kaggle/train_test_csv3/Y_train_with_all_ultime_drop_2_age.csv\n",
      "/home/poulain/Documents/Cours DAC/FDMS/Kaggle/train_test_csv3/Y_test_3_pos_win_17f_sem_hidden.csv\n",
      "/home/poulain/Documents/Cours DAC/FDMS/Kaggle/train_test_csv3/X_test_6_face_23f_sem.csv\n",
      "/home/poulain/Documents/Cours DAC/FDMS/Kaggle/train_test_csv3/X_test_with_all_ultime_drop.csv\n",
      "/home/poulain/Documents/Cours DAC/FDMS/Kaggle/train_test_csv3/Y_train_final_26f_sem2_hidden.csv\n",
      "/home/poulain/Documents/Cours DAC/FDMS/Kaggle/train_test_csv3/Y_train_final_26f.csv\n",
      "/home/poulain/Documents/Cours DAC/FDMS/Kaggle/train_test_csv3/Y_test_2_pos_win_14f_sem_hidden.csv\n",
      "/home/poulain/Documents/Cours DAC/FDMS/Kaggle/train_test_csv3/X_train_with_all_ultime_drop.csv\n",
      "/home/poulain/Documents/Cours DAC/FDMS/Kaggle/train_test_csv3/X_test_final_26f_sem2_hidden_by1.csv\n",
      "/home/poulain/Documents/Cours DAC/FDMS/Kaggle/train_test_csv3/X_train_with_all_ultime_drop_2_final.csv\n",
      "/home/poulain/Documents/Cours DAC/FDMS/Kaggle/train_test_csv3/X_test_final_26f.csv\n",
      "/home/poulain/Documents/Cours DAC/FDMS/Kaggle/train_test_csv3/Y_test_with_all_ultime_drop_2_hidden.csv\n",
      "/home/poulain/Documents/Cours DAC/FDMS/Kaggle/train_test_csv3/X_test_4_pos_win_19f_sem_hidden.csv\n",
      "/home/poulain/Documents/Cours DAC/FDMS/Kaggle/train_test_csv3/X_test_6_face_23f_sem_hidden.csv\n",
      "/home/poulain/Documents/Cours DAC/FDMS/Kaggle/train_test_csv3/X_train_4_pos_win_19f_sem_hidden.csv\n",
      "/home/poulain/Documents/Cours DAC/FDMS/Kaggle/train_test_csv3/Y_test_6_face_23f_sem_hidden.csv\n",
      "/home/poulain/Documents/Cours DAC/FDMS/Kaggle/train_test_csv3/Y_train_3_pos_win_17f_sem.csv\n",
      "/home/poulain/Documents/Cours DAC/FDMS/Kaggle/train_test_csv3/X_test_final_26f_sem2.csv\n",
      "/home/poulain/Documents/Cours DAC/FDMS/Kaggle/train_test_csv3/X_test_3_pos_win_17f_sem_hidden.csv\n",
      "/home/poulain/Documents/Cours DAC/FDMS/Kaggle/train_test_csv3/Y_train_2_pos_win_14f_sem.csv\n",
      "/home/poulain/Documents/Cours DAC/FDMS/Kaggle/train_test_csv3/Y_train_1_pos_12f.csv\n",
      "/home/poulain/Documents/Cours DAC/FDMS/Kaggle/train_test_csv3/X_train_4_pos_win_19f_sem.csv\n",
      "/home/poulain/Documents/Cours DAC/FDMS/Kaggle/train_test_csv3/Y_train_1_pos_12f_sem.csv\n",
      "/home/poulain/Documents/Cours DAC/FDMS/Kaggle/train_test_csv3/X_test_5_age_21f.csv\n",
      "/home/poulain/Documents/Cours DAC/FDMS/Kaggle/train_test_csv3/X_train_final_26f_sem2.csv\n",
      "/home/poulain/Documents/Cours DAC/FDMS/Kaggle/train_test_csv3/X_test_2_pos_win_14f.csv\n",
      "/home/poulain/Documents/Cours DAC/FDMS/Kaggle/train_test_csv3/X_test_with_all_ultime_drop_2_age_hidden.csv\n",
      "/home/poulain/Documents/Cours DAC/FDMS/Kaggle/train_test_csv3/Y_train_5_age_21f_sem.csv\n",
      "/home/poulain/Documents/Cours DAC/FDMS/Kaggle/train_test_csv3/X_train_6_face_23f_sem_hidden.csv\n",
      "/home/poulain/Documents/Cours DAC/FDMS/Kaggle/train_test_csv3/Y_test_4_pos_win_19f_sem_hidden.csv\n",
      "/home/poulain/Documents/Cours DAC/FDMS/Kaggle/train_test_csv3/Y_test_1_pos_12f_sem_hidden.csv\n",
      "/home/poulain/Documents/Cours DAC/FDMS/Kaggle/train_test_csv3/X_test_with_all_ultime_drop_2_age.csv\n",
      "/home/poulain/Documents/Cours DAC/FDMS/Kaggle/train_test_csv3/Y_train_2_pos_win_14f_sem_hidden.csv\n",
      "/home/poulain/Documents/Cours DAC/FDMS/Kaggle/train_test_csv3/.~lock.X_test_2_pos_win_14f_sem.csv#\n",
      "/home/poulain/Documents/Cours DAC/FDMS/Kaggle/train_test_csv3/X_train_final_26f.csv\n",
      "/home/poulain/Documents/Cours DAC/FDMS/Kaggle/train_test_csv3/Y_train_final_26f_sem.csv\n",
      "/home/poulain/Documents/Cours DAC/FDMS/Kaggle/train_test_csv3/X_test_with_all_ultime_drop_2.csv\n",
      "/home/poulain/Documents/Cours DAC/FDMS/Kaggle/train_test_csv3/Y_train_with_all_ultime_drop_2_hidden.csv\n",
      "/home/poulain/Documents/Cours DAC/FDMS/Kaggle/train_test_csv3/X_train_6_face_23f_sem.csv\n",
      "/home/poulain/Documents/Cours DAC/FDMS/Kaggle/train_test_csv3/X_train_1_pos_12f.csv\n",
      "/home/poulain/Documents/Cours DAC/FDMS/Kaggle/train_test_csv3/Y_test_3_pos_win_17f_sem_hidden .csv\n",
      "/home/poulain/Documents/Cours DAC/FDMS/Kaggle/train_test_csv3/X_train_5_age_21f.csv\n",
      "/home/poulain/Documents/Cours DAC/FDMS/Kaggle/train_test_csv3/Y_test_with_all_ultime_drop_2_age_hidden.csv\n",
      "/home/poulain/Documents/Cours DAC/FDMS/Kaggle/train_test_csv3/Y_train_final_26f_sem2.csv\n",
      "/home/poulain/Documents/Cours DAC/FDMS/Kaggle/train_test_csv3/Y_train_6_face_23f_sem_hidden.csv\n",
      "/home/poulain/Documents/Cours DAC/FDMS/Kaggle/train_test_csv3/Y_train_with_all_ultime_drop_2.csv\n",
      "/home/poulain/Documents/Cours DAC/FDMS/Kaggle/train_test_csv3/Y_train_6_face_23f_sem.csv\n",
      "/home/poulain/Documents/Cours DAC/FDMS/Kaggle/train_test_csv3/X_train_5_age_21f_sem.csv\n",
      "/home/poulain/Documents/Cours DAC/FDMS/Kaggle/train_test_csv3/X_test_1_pos_12f.csv\n",
      "/home/poulain/Documents/Cours DAC/FDMS/Kaggle/train_test_csv3/X_train_1_pos_12f_sem.csv\n",
      "/home/poulain/Documents/Cours DAC/FDMS/Kaggle/train_test_csv3/X_test_1_pos_12f_sem_hidden.csv\n",
      "/home/poulain/Documents/Cours DAC/FDMS/Kaggle/train_test_csv3/Y_train_final_26f_sem2_hidden_by1.csv\n",
      "/home/poulain/Documents/Cours DAC/FDMS/Kaggle/train_test_csv3/X_test_5_age_21f_sem_hidden.csv\n",
      "/home/poulain/Documents/Cours DAC/FDMS/Kaggle/train_test_csv3/X_test_6_face_23f.csv\n",
      "/home/poulain/Documents/Cours DAC/FDMS/Kaggle/train_test_csv3/X_test_4_pos_win_19f_sem.csv\n",
      "/home/poulain/Documents/Cours DAC/FDMS/Kaggle/train_test_csv3/X_train_3_pos_win_17f.csv\n",
      "/home/poulain/Documents/Cours DAC/FDMS/Kaggle/train_test_csv3/X_test_3_pos_win_17f.csv\n",
      "/home/poulain/Documents/Cours DAC/FDMS/Kaggle/train_test_csv3/X_train_with_all_ultime_drop_2_age.csv\n",
      "/home/poulain/Documents/Cours DAC/FDMS/Kaggle/train_test_csv3/Y_train_with_all_ultime_drop_2_age_hidden.csv\n",
      "/home/poulain/Documents/Cours DAC/FDMS/Kaggle/train_test_csv3/X_test_final_26f_sem2_hidden.csv\n",
      "/home/poulain/Documents/Cours DAC/FDMS/Kaggle/train_test_csv3/X_test_1_pos_12f_sem.csv\n",
      "/home/poulain/Documents/Cours DAC/FDMS/Kaggle/train_test_csv3/Y_train_5_age_21f_sem_hidden.csv\n",
      "/home/poulain/Documents/Cours DAC/FDMS/Kaggle/train_test_csv3/X_test_3_pos_win_17f_sem.csv\n",
      "/home/poulain/Documents/Cours DAC/FDMS/Kaggle/train_test_csv3/Y_train_with_all_ultime_drop_2_final.csv\n",
      "/home/poulain/Documents/Cours DAC/FDMS/Kaggle/train_test_csv3/X_train_1_pos_12f_sem_hidden.csv\n",
      "/home/poulain/Documents/Cours DAC/FDMS/Kaggle/train_test_csv3/X_train_2_pos_win_14f_sem_hidden.csv\n",
      "/home/poulain/Documents/Cours DAC/FDMS/Kaggle/train_test_csv3/X_train_5_age_21f_sem_hidden.csv\n",
      "/home/poulain/Documents/Cours DAC/FDMS/Kaggle/train_test_csv3/Y_train_3_pos_win_17f_sem_hidden.csv\n"
     ]
    }
   ],
   "source": [
    "dict_table = defaultdict(dict)\n",
    "path=r'/home/poulain/Documents/Cours DAC/FDMS/Kaggle/train_test_csv3'\n",
    "for element in os.listdir(path):\n",
    "    path_absolute=path+\"/\"+element\n",
    "    print(path_absolute)\n",
    "    dict_table[element.split(\".\")[0]] = pd.read_csv(path_absolute)"
   ]
  },
  {
   "cell_type": "code",
   "execution_count": 23,
   "metadata": {
    "collapsed": true
   },
   "outputs": [],
   "source": [
    "X_train=dict_table['X_train_with_all_ultime_drop_2_final']\n",
    "Y_train=dict_table['Y_train_with_all_ultime_drop_2_final']\n",
    "X_test=dict_table['X_test_with_all_ultime_drop_2_age_hidden']\n",
    "Y_test=dict_table['Y_test_with_all_ultime_drop_2_age_hidden']\n",
    "X_test_leaderboard=dict_table['X_test_with_all_ultime_drop_2_final']"
   ]
  },
  {
   "cell_type": "code",
   "execution_count": 24,
   "metadata": {
    "collapsed": false,
    "scrolled": true
   },
   "outputs": [
    {
     "name": "stdout",
     "output_type": "stream",
     "text": [
      "X_test_leaderboard\n",
      "(7607, 7)\n",
      "\n",
      "X_train,Y_train\n",
      "(84484, 7)\n",
      "(84484, 1)\n",
      "\n",
      "X_test,Y_test\n",
      "(21618, 11)\n",
      "(21618, 1)\n",
      "\n"
     ]
    }
   ],
   "source": [
    "print(\"X_test_leaderboard\")\n",
    "print(X_test_leaderboard.shape)\n",
    "print()\n",
    "print(\"X_train,Y_train\")\n",
    "print(X_train.shape)\n",
    "print(Y_train.shape)\n",
    "print()\n",
    "print(\"X_test,Y_test\")\n",
    "print(X_test.shape)\n",
    "print(Y_test.shape)\n",
    "print()\n",
    "\n",
    "#names_features=dict_table['names_features']\n",
    "#names=names_features.columns"
   ]
  },
  {
   "cell_type": "code",
   "execution_count": 5,
   "metadata": {
    "collapsed": true
   },
   "outputs": [],
   "source": [
    "# Trick for scikit-learn, resize Y_train and Y_test, crossval"
   ]
  },
  {
   "cell_type": "code",
   "execution_count": 25,
   "metadata": {
    "collapsed": false
   },
   "outputs": [],
   "source": [
    "Y_train.columns=['Y']\n",
    "Y_train=Y_train['Y']\n",
    "Y_test.columns=['Y']\n",
    "Y_test=Y_test['Y']\n"
   ]
  },
  {
   "cell_type": "code",
   "execution_count": 26,
   "metadata": {
    "collapsed": true
   },
   "outputs": [],
   "source": [
    "Y_train=np.where(Y_train==2,0,1)\n",
    "Y_test=np.where(Y_test==2,0,1)"
   ]
  },
  {
   "cell_type": "code",
   "execution_count": 27,
   "metadata": {
    "collapsed": true
   },
   "outputs": [],
   "source": [
    "def Result_gridS(x, y, x_label, y_label, gs_scores):\n",
    "    scores=[]\n",
    "    for score in gs_scores:\n",
    "        scores.append(score[1])\n",
    "    scores = np.array(scores).reshape(len(x), len(y))\n",
    "\n",
    "    plt.figure()\n",
    "    plt.imshow(scores, interpolation='nearest', cmap=plt.cm.Greens)\n",
    "    plt.xlabel(y_label)\n",
    "    plt.ylabel(x_label)\n",
    "    plt.colorbar()\n",
    "    plt.xticks(np.arange(len(y)), y, rotation=45)\n",
    "    plt.yticks(np.arange(len(x)), x)\n",
    "    plt.title('Accuracy max_depth vs n_estimators')"
   ]
  },
  {
   "cell_type": "code",
   "execution_count": 28,
   "metadata": {
    "collapsed": true
   },
   "outputs": [],
   "source": [
    "def Result_gridS_GB(x, y,z, x_label, y_label,z_label, gs_scores):\n",
    "    scores=[]\n",
    "    for score in gs_scores:\n",
    "        scores.append(score[1])\n",
    "        \n",
    "    scores = np.array(scores).reshape((len(x)*len(z)), len(y))\n",
    "\n",
    "    plt.figure()\n",
    "    plt.imshow(scores, interpolation='nearest', cmap=plt.cm.Greens)\n",
    "    plt.xlabel(y_label)\n",
    "    plt.ylabel(x_label)\n",
    "    plt.colorbar()\n",
    "    plt.xticks(np.arange(len(y)), y, rotation=45)\n",
    "    plt.yticks(np.arange((len(x)+len(z))),x)\n",
    "    plt.title('Accuracy max_depth vs n_estimators')"
   ]
  },
  {
   "cell_type": "markdown",
   "metadata": {},
   "source": [
    "## Random Forest "
   ]
  },
  {
   "cell_type": "code",
   "execution_count": 29,
   "metadata": {
    "collapsed": false
   },
   "outputs": [
    {
     "data": {
      "image/png": "[encoded data removed]",
      "text/plain": [
       "<matplotlib.figure.Figure at 0x7f11e8d01c18>"
      ]
     },
     "metadata": {},
     "output_type": "display_data"
    },
    {
     "name": "stdout",
     "output_type": "stream",
     "text": [
      "RandomForestClassifier(bootstrap=True, class_weight=None, criterion='gini',\n",
      "            max_depth=9, max_features='auto', max_leaf_nodes=None,\n",
      "            min_impurity_split=1e-07, min_samples_leaf=1,\n",
      "            min_samples_split=2, min_weight_fraction_leaf=0.0,\n",
      "            n_estimators=80, n_jobs=1, oob_score=False, random_state=None,\n",
      "            verbose=0, warm_start=False)\n",
      "\n",
      "Cross Validation mean : 0.648963172799\n",
      "RandomForestClassifier(bootstrap=True, class_weight=None, criterion='gini',\n",
      "            max_depth=9, max_features='auto', max_leaf_nodes=None,\n",
      "            min_impurity_split=1e-07, min_samples_leaf=1,\n",
      "            min_samples_split=2, min_weight_fraction_leaf=0.0,\n",
      "            n_estimators=80, n_jobs=1, oob_score=False, random_state=None,\n",
      "            verbose=0, warm_start=False)\n",
      "Cross Validation mean : 0.648525225374\n"
     ]
    }
   ],
   "source": [
    "#Tune Parameters for Random Forest\n",
    "max_depth_range = np.array([1, 2, 3,4,5,6,7,8,9,10,15,25,30 ])\n",
    "n_estimators_range = np.array([10, 20, 30,4,50,60,70,80,90,100,125])\n",
    "param_grid= {'max_depth' : max_depth_range,'n_estimators' : n_estimators_range}\n",
    "\n",
    "clf = RandomForestClassifier(n_estimators=10, max_depth=None)\n",
    "\n",
    "Grid = GridSearchCV(clf, param_grid=param_grid, n_jobs=4, scoring='roc_auc')\n",
    "        \n",
    "Grid.fit(X_train,Y_train)\n",
    "\n",
    "Result_gridS(max_depth_range, n_estimators_range, 'max_depth', 'n_estimators', Grid.grid_scores_)\n",
    "plt.show()\n",
    "\n",
    "top_clf = Grid.best_estimator_\n",
    "print(top_clf)\n",
    "print()\n",
    "Y_result=top_clf.predict(X_test_leaderboard)\n",
    "scores = cross_val_score(top_clf, X_train,Y_train)\n",
    "print(\"Cross Validation mean :\",scores.mean())\n",
    "\n",
    "top_depth=Grid.best_params_['max_depth']\n",
    "top_estimators=Grid.best_params_['n_estimators']\n",
    "\n",
    "max_depth_range_2=np.arange(top_depth-1,top_depth+1,1)\n",
    "n_estimators_range_2=np.arange(top_estimators-1,top_estimators+1,1)\n",
    "\n",
    "param_grid_2= {'max_depth' : max_depth_range_2,'n_estimators' : n_estimators_range_2}\n",
    "\n",
    "Grid = GridSearchCV(clf, param_grid=param_grid_2, n_jobs=4, scoring='roc_auc')\n",
    "\n",
    "Grid.fit(X_train,Y_train)\n",
    "\n",
    "\n",
    "top_clf = Grid.best_estimator_\n",
    "print(top_clf)\n",
    "\n",
    "Y_result=top_clf.predict(X_test_leaderboard)\n",
    "scores = cross_val_score(top_clf, X_train,Y_train)\n",
    "print(\"Cross Validation mean :\",scores.mean())"
   ]
  },
  {
   "cell_type": "code",
   "execution_count": null,
   "metadata": {
    "collapsed": false
   },
   "outputs": [],
   "source": [
    "#Tune Parameters Random Forest on hidden database\n",
    "max_depth_range = np.array([1, 2, 3, 4,5,6,7,8,9,10 ])\n",
    "n_estimators_range = np.array([10, 20, 30, 40,50,60,70,80,100])\n",
    "param_grid= {'max_depth' : max_depth_range,'n_estimators' : n_estimators_range}\n",
    "\n",
    "clf = RandomForestClassifier(n_estimators=10, max_depth=None)\n",
    "\n",
    "Grid = GridSearchCV(clf, param_grid=param_grid, n_jobs=4, scoring='roc_auc')\n",
    "        \n",
    "Grid.fit(X_train,Y_train)\n",
    "\n",
    "Result_gridS(max_depth_range, n_estimators_range, 'max depth', 'n estimators', Grid.grid_scores_)\n",
    "plt.show()\n",
    "\n",
    "top_clf = Grid.best_estimator_\n",
    "print(top_clf)\n",
    "\n",
    "Y_result=top_clf.predict(X_test)\n",
    "print(top_clf.score(X_test, Y_test),\"clf_score\")\n",
    "scores = cross_val_score(top_clf, X_train, Y_train)\n",
    "print(scores.mean())"
   ]
  },
  {
   "cell_type": "markdown",
   "metadata": {},
   "source": [
    "# Gradient Boosting"
   ]
  },
  {
   "cell_type": "code",
   "execution_count": 16,
   "metadata": {
    "collapsed": false
   },
   "outputs": [
    {
     "data": {
      "image/png": "[encoded data removed]",
      "text/plain": [
       "<matplotlib.figure.Figure at 0x7f11e960f0b8>"
      ]
     },
     "metadata": {},
     "output_type": "display_data"
    },
    {
     "name": "stdout",
     "output_type": "stream",
     "text": [
      "GradientBoostingClassifier(criterion='friedman_mse', init=None,\n",
      "              learning_rate=0.10000000000000001, loss='deviance',\n",
      "              max_depth=4, max_features=None, max_leaf_nodes=None,\n",
      "              min_impurity_split=1e-07, min_samples_leaf=1,\n",
      "              min_samples_split=2, min_weight_fraction_leaf=0.0,\n",
      "              n_estimators=60, presort='auto', random_state=None,\n",
      "              subsample=1.0, verbose=0, warm_start=False)\n",
      "0.720740120753\n"
     ]
    }
   ],
   "source": [
    "#Tune Parameters for Gradient Boosting\n",
    "max_depth_range = np.array([4])\n",
    "n_estimators_range = np.array([60])\n",
    "learning_rate_range =  np.array([ 0.1,0.2 ])\n",
    "param_grid= {'max_depth' : max_depth_range,'n_estimators' : n_estimators_range,'learning_rate':learning_rate_range}\n",
    "\n",
    "clf = GradientBoostingClassifier(n_estimators=10, max_depth=None)\n",
    "\n",
    "Grid = GridSearchCV(clf, param_grid=param_grid, n_jobs=4, scoring='roc_auc')\n",
    "        \n",
    "Grid.fit(X_train,Y_train)\n",
    "\n",
    "Result_gridS_GB(max_depth_range, n_estimators_range, learning_rate_range,'max_depth', 'n_estimators','learning_rate', Grid.grid_scores_)\n",
    "plt.show()\n",
    "\n",
    "top_clf = Grid.best_estimator_\n",
    "print(top_clf)\n",
    "\n",
    "Y_result=top_clf.predict(X_test_leaderboard)\n",
    "scores = cross_val_score(top_clf, X_train,Y_train)\n",
    "print(scores.mean())\n",
    "\n",
    "#top_depth=Grid.best_params_['max_depth']\n",
    "#top_estimators=Grid.best_params_['n_estimators']\n",
    "#top_learning_rate=Grid.best_params_['learning_rate']\n",
    "#max_depth_range_2=np.arange(top_depth-2,top_depth+2,1)\n",
    "#n_estimators_range_2=np.arange(top_estimators-2,top_estimators+2,1)\n",
    "#n_learning_rate_range_2=np.arange(top_learning_rate-(top_learning_rate/2),top_learning_rate+(top_learning_rate/2),(top_learning_rate/2))\n",
    "#param_grid_2= {'max_depth' : max_depth_range_2,'n_estimators' : n_estimators_range_2,'learning_rate':n_learning_rate_range_2}\n",
    "\n",
    "#Grid = GridSearchCV(clf, param_grid=param_grid_2, n_jobs=4, scoring='roc_auc')\n",
    "\n",
    "#Grid.fit(X_train,Y_train)\n",
    "\n",
    "\n",
    "#top_clf = Grid.best_estimator_\n",
    "#print(top_clf)\n",
    "\n",
    "#Y_result=top_clf.predict(X_test_leaderboard)\n",
    "#scores = cross_val_score(top_clf, X_train,Y_train)\n",
    "#print(scores.mean())\n"
   ]
  },
  {
   "cell_type": "code",
   "execution_count": null,
   "metadata": {
    "collapsed": false
   },
   "outputs": [],
   "source": [
    "#Tune Parameters for Gradient Boosting on hidden database\n",
    "max_depth_range = np.array([1,2,3,4,5,6])\n",
    "n_estimators_range = np.array([10, 20,30,40])\n",
    "learning_rate_range =  np.array([ 0.01,0.1 ])\n",
    "param_grid= {'max_depth' : max_depth_range,'n_estimators' : n_estimators_range,'learning_rate':learning_rate_range}\n",
    "\n",
    "clf = GradientBoostingClassifier(n_estimators=10, max_depth=None)\n",
    "\n",
    "Grid = GridSearchCV(clf, param_grid=param_grid, n_jobs=4, scoring='roc_auc')\n",
    "        \n",
    "Grid.fit(X_train,Y_train)\n",
    "\n",
    "Result_gridS_GB(max_depth_range, n_estimators_range, learning_rate_range,'max_depth', 'n_estimators','learning_rate', Grid.grid_scores_)\n",
    "plt.show()\n",
    "\n",
    "top_clf = Grid.best_estimator_\n",
    "print(top_clf)\n",
    "\n",
    "Y_result=top_clf.predict(X_test_leaderboard)\n",
    "scores = cross_val_score(top_clf, X_train,Y_train)\n",
    "print(scores.mean())\n"
   ]
  },
  {
   "cell_type": "markdown",
   "metadata": {},
   "source": [
    "# FEATURE SELECTION WITH RFECV"
   ]
  },
  {
   "cell_type": "code",
   "execution_count": 34,
   "metadata": {
    "collapsed": false
   },
   "outputs": [
    {
     "name": "stdout",
     "output_type": "stream",
     "text": [
      "Optimal number of features : 6\n",
      "[1 1 2 1 1 1 1]\n"
     ]
    },
    {
     "data": {
      "image/png": "[encoded data removed]",
      "text/plain": [
       "<matplotlib.figure.Figure at 0x7f11e960fcc0>"
      ]
     },
     "metadata": {},
     "output_type": "display_data"
    }
   ],
   "source": [
    "from sklearn.feature_selection import RFECV\n",
    "from sklearn.model_selection import StratifiedKFold\n",
    "\n",
    "\n",
    "clf = RandomForestClassifier(n_estimators=80, max_depth=9)\n",
    "\n",
    "Rfe=RFECV(estimator=clf, step=1,scoring='accuracy',cv=StratifiedKFold(2))    \n",
    "Rfe.fit(X_train,Y_train)\n",
    "print(\"Optimal number of features : %d\" % Rfe.n_features_)\n",
    "\n",
    "print(Rfe.ranking_)\n",
    "\n",
    "plt.figure()\n",
    "plt.xlabel(\"Number of features selected\")\n",
    "plt.ylabel(\"Cross validation score (nb of correct classifications)\")\n",
    "plt.plot(range(1, len(Rfe.grid_scores_) + 1), Rfe.grid_scores_)\n",
    "plt.show()\n",
    "\n",
    "Y_result=Rfe.predict(X_test_leaderboard)\n"
   ]
  },
  {
   "cell_type": "markdown",
   "metadata": {},
   "source": [
    "#  Export Function Y_result"
   ]
  },
  {
   "cell_type": "code",
   "execution_count": 18,
   "metadata": {
    "collapsed": false
   },
   "outputs": [],
   "source": [
    "def final_rendu(Y_result):\n",
    "    index=range(len(Y_result))\n",
    "    columns=['ID Joueur 1','ID Joueur 2','ID Tournoi','ID Round','PREDICT']\n",
    "    df=pd.DataFrame(index=index,columns=columns)\n",
    "    df['ID Joueur 1']=X_test_leaderboard['30589']\n",
    "    df['ID Joueur 2']=X_test_leaderboard['54796']\n",
    "    df['ID Tournoi']=X_test_leaderboard['13296']\n",
    "    df['ID Round']=X_test_leaderboard['4']\n",
    "    Y_result=np.where(Y_result==0,2,1)\n",
    "    df['PREDICT']=Y_result\n",
    "    return df"
   ]
  },
  {
   "cell_type": "code",
   "execution_count": 19,
   "metadata": {
    "collapsed": false
   },
   "outputs": [],
   "source": [
    "df=final_rendu(Y_result)\n",
    "df.to_csv('Result_Tennis_260_142f_gb3.csv',header=True, index=None)"
   ]
  },
  {
   "cell_type": "code",
   "execution_count": 33,
   "metadata": {
    "collapsed": false
   },
   "outputs": [
    {
     "data": {
      "image/png": "[encoded data removed]",
      "text/plain": [
       "<matplotlib.figure.Figure at 0x7f11e8d6dfd0>"
      ]
     },
     "metadata": {},
     "output_type": "display_data"
    }
   ],
   "source": [
    "#plt.figure()\n",
    "n_groups = 7\n",
    "cross_val = [0.65,0.71,0.73,0.804,0.80,0.802,0.65]\n",
    "\n",
    "test_val = [0.63,0.712,0.72,0.774,0.773,0.773,0.64]\n",
    "\n",
    "real_data=[0.59,0.653,0.623,0.628,0.63,0.625,0.53]\n",
    "\n",
    "fig, ax = plt.subplots()\n",
    "\n",
    "index = np.arange(n_groups)\n",
    "width = 0.20\n",
    "\n",
    "\n",
    "rects1 = plt.bar(index, cross_val,width,color='r')\n",
    "\n",
    "rects2 = plt.bar(index + width, test_val,width,color='y')\n",
    "\n",
    "rect3=plt.bar(index+width+width,real_data,width,color='g')\n",
    "plt.xlabel('Différents Features')\n",
    "plt.ylabel('Scores')\n",
    "plt.title('Results Test Machine Learning ')\n",
    "plt.xticks(index + width, ('12f', '14f', '17f', '19f', '21f','26f','drop'))\n",
    "plt.legend((rects1[0], rects2[0]), ('Cross_Val', 'Test Result'),loc=4)\n",
    "\n",
    "plt.tight_layout()\n",
    "plt.show()"
   ]
  },
  {
   "cell_type": "markdown",
   "metadata": {},
   "source": [
    "Certains résultats de cross validation avec la base de données privées peuvent être tronquer. En effet, pour certains, j'ai continué de garder les différentes valeurs précédentes % de WIN_TOURNEY,... Ce qui a pour effet de coller trop aux données et d'avoir des resultats trop élévés pour la validation. \n",
    "\n",
    "Pour le résultat final, en utilisant une RANDOM FOREST pour les 14 premières features, le score maximal de soumission est 0.653"
   ]
  },
  {
   "cell_type": "markdown",
   "metadata": {},
   "source": [
    "De nombreux tests de selection defeatures ont été effectués, je ne dépasse jamais les 66% pour les  14 premières features. "
   ]
  },
  {
   "cell_type": "code",
   "execution_count": null,
   "metadata": {
    "collapsed": true
   },
   "outputs": [],
   "source": []
  }
 ],
 "metadata": {
  "kernelspec": {
   "display_name": "Python 3",
   "language": "python",
   "name": "python3"
  },
  "language_info": {
   "codemirror_mode": {
    "name": "ipython",
    "version": 3
   },
   "file_extension": ".py",
   "mimetype": "text/x-python",
   "name": "python",
   "nbconvert_exporter": "python",
   "pygments_lexer": "ipython3",
   "version": "3.5.2"
  }
 },
 "nbformat": 4,
 "nbformat_minor": 1
}
